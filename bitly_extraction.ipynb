{
 "cells": [
  {
   "cell_type": "markdown",
   "metadata": {},
   "source": [
    "# Python script for extracting bit.ly links and other short URL's "
   ]
  },
  {
   "cell_type": "markdown",
   "metadata": {},
   "source": [
    "#### Import necessary libraries"
   ]
  },
  {
   "cell_type": "code",
   "execution_count": 1,
   "metadata": {
    "collapsed": true
   },
   "outputs": [],
   "source": [
    "from datetime import datetime\n",
    "import time\n",
    "import requests\n",
    "import tldextract"
   ]
  },
  {
   "cell_type": "markdown",
   "metadata": {},
   "source": [
    "#### Function definition for URL expansion"
   ]
  },
  {
   "cell_type": "code",
   "execution_count": 2,
   "metadata": {
    "collapsed": true
   },
   "outputs": [],
   "source": [
    "\n",
    "def unpack_url(url):\n",
    "    session = requests.Session()  \n",
    "    start = int(round(time.mktime(datetime.now().timetuple())))\n",
    "    try:\n",
    "        current = int(round(time.mktime(datetime.now().timetuple())))\n",
    "        if current-start > 3*60: # 3mins x 60secs\n",
    "            return \"Error: Exceeded 3 mins\"\n",
    "        resp = session.head(url, allow_redirects=True)\n",
    "        full_url = resp.url\n",
    "        url_domain = tldextract.extract(full_url).domain \n",
    "        url_suffix = tldextract.extract(full_url).suffix\n",
    "        domain_s = url_domain + \".\" + url_suffix\n",
    "        return full_url,domain_s\n",
    "    except requests.exceptions.TooManyRedirects:\n",
    "        return \"Error: Too many redirects. \", \"NA\"\n",
    "    except requests.exceptions.ConnectionError:\n",
    "        return \"Error: Connection Error\", \"NA\""
   ]
  },
  {
   "cell_type": "markdown",
   "metadata": {},
   "source": [
    "#### Example"
   ]
  },
  {
   "cell_type": "code",
   "execution_count": 3,
   "metadata": {},
   "outputs": [
    {
     "name": "stdout",
     "output_type": "stream",
     "text": [
      "('https://www.popsugar.com/moms/photo-gallery/44284263/image/44284422/New-Year-Eve-Countdowns-2018', 'popsugar.com')\n"
     ]
    }
   ],
   "source": [
    "print(unpack_url(\"http://bit.ly/2oAvAtC\"))"
   ]
  },
  {
   "cell_type": "markdown",
   "metadata": {},
   "source": [
    "##### ~END~"
   ]
  }
 ],
 "metadata": {
  "kernelspec": {
   "display_name": "Python 3",
   "language": "python",
   "name": "python3"
  },
  "language_info": {
   "codemirror_mode": {
    "name": "ipython",
    "version": 3
   },
   "file_extension": ".py",
   "mimetype": "text/x-python",
   "name": "python",
   "nbconvert_exporter": "python",
   "pygments_lexer": "ipython3",
   "version": "3.6.3"
  }
 },
 "nbformat": 4,
 "nbformat_minor": 2
}
